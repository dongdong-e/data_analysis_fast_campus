{
  "nbformat": 4,
  "nbformat_minor": 0,
  "metadata": {
    "colab": {
      "name": "ch05_python프로그래밍_02_function(함수)_실습.ipynb",
      "provenance": [],
      "collapsed_sections": []
    },
    "kernelspec": {
      "name": "python3",
      "display_name": "Python 3"
    }
  },
  "cells": [
    {
      "cell_type": "markdown",
      "metadata": {
        "id": "vOM7e6zujAZw",
        "colab_type": "text"
      },
      "source": [
        "## 1. 함수란 무엇일까요?"
      ]
    },
    {
      "cell_type": "markdown",
      "metadata": {
        "id": "ELm3GwkojNgP",
        "colab_type": "text"
      },
      "source": [
        "반복적으로 사용되는 부분을 묶어서, **재사용 가능**하도록 만들어 주는 것"
      ]
    },
    {
      "cell_type": "markdown",
      "metadata": {
        "id": "5-aIf-uqp4pQ",
        "colab_type": "text"
      },
      "source": [
        "함수에는 **들어가는 놈 (input)**이 있고, **나오는 놈 (output 혹은 return)**이 있습니다. 정해진 로직(규칙)에 따라, input -> output으로 효율적으로 바꿔주는 역할을 합니다"
      ]
    },
    {
      "cell_type": "markdown",
      "metadata": {
        "id": "8bwTDOOZjcu1",
        "colab_type": "text"
      },
      "source": [
        "**[예시]**"
      ]
    },
    {
      "cell_type": "code",
      "metadata": {
        "id": "HSBZ_AJCqPh9",
        "colab_type": "code",
        "colab": {}
      },
      "source": [
        "a = 1\n",
        "b = 2\n",
        "c = 3"
      ],
      "execution_count": 0,
      "outputs": []
    },
    {
      "cell_type": "code",
      "metadata": {
        "id": "CrMppqW-jgtg",
        "colab_type": "code",
        "outputId": "6784d6fd-5a20-4ee3-d217-a2eb0bc0f9ed",
        "colab": {
          "base_uri": "https://localhost:8080/",
          "height": 34
        }
      },
      "source": [
        "# 코드를 입력해 주세요\n",
        "(a + b) * c"
      ],
      "execution_count": 2,
      "outputs": [
        {
          "output_type": "execute_result",
          "data": {
            "text/plain": [
              "9"
            ]
          },
          "metadata": {
            "tags": []
          },
          "execution_count": 2
        }
      ]
    },
    {
      "cell_type": "code",
      "metadata": {
        "id": "nnLWr0yGqO_P",
        "colab_type": "code",
        "colab": {}
      },
      "source": [
        "a = 2\n",
        "b = 2\n",
        "c = 3"
      ],
      "execution_count": 0,
      "outputs": []
    },
    {
      "cell_type": "code",
      "metadata": {
        "id": "27xwwujGqeR2",
        "colab_type": "code",
        "outputId": "936feac8-2952-4189-e99b-d10244cbab94",
        "colab": {
          "base_uri": "https://localhost:8080/",
          "height": 34
        }
      },
      "source": [
        "# 코드를 입력해 주세요\n",
        "(a + b) * c"
      ],
      "execution_count": 6,
      "outputs": [
        {
          "output_type": "execute_result",
          "data": {
            "text/plain": [
              "12"
            ]
          },
          "metadata": {
            "tags": []
          },
          "execution_count": 6
        }
      ]
    },
    {
      "cell_type": "code",
      "metadata": {
        "id": "eus2Sc3FqfJJ",
        "colab_type": "code",
        "colab": {}
      },
      "source": [
        "a = 3\n",
        "b = 2\n",
        "c = 3"
      ],
      "execution_count": 0,
      "outputs": []
    },
    {
      "cell_type": "code",
      "metadata": {
        "id": "zv6CIbiuqgy-",
        "colab_type": "code",
        "outputId": "45f1916a-8bb3-4fc7-a968-7aa339e0dfcf",
        "colab": {
          "base_uri": "https://localhost:8080/",
          "height": 34
        }
      },
      "source": [
        "# 코드를 입력해 주세요\n",
        "(a + b) * c"
      ],
      "execution_count": 7,
      "outputs": [
        {
          "output_type": "execute_result",
          "data": {
            "text/plain": [
              "12"
            ]
          },
          "metadata": {
            "tags": []
          },
          "execution_count": 7
        }
      ]
    },
    {
      "cell_type": "markdown",
      "metadata": {
        "id": "k3ZRnMTRqhJX",
        "colab_type": "text"
      },
      "source": [
        "**[함수로 변경 후]**"
      ]
    },
    {
      "cell_type": "code",
      "metadata": {
        "id": "MubDprG4qlAm",
        "colab_type": "code",
        "colab": {}
      },
      "source": [
        "def func(a, b, c):\n",
        "    return (a + b) * c"
      ],
      "execution_count": 0,
      "outputs": []
    },
    {
      "cell_type": "code",
      "metadata": {
        "id": "DtLSycwwqsF2",
        "colab_type": "code",
        "outputId": "b1666c6d-c028-42e2-f697-a4392fdede88",
        "colab": {
          "base_uri": "https://localhost:8080/",
          "height": 34
        }
      },
      "source": [
        "# 코드를 입력해 주세요\n",
        "func(1, 2, 3)"
      ],
      "execution_count": 11,
      "outputs": [
        {
          "output_type": "execute_result",
          "data": {
            "text/plain": [
              "9"
            ]
          },
          "metadata": {
            "tags": []
          },
          "execution_count": 11
        }
      ]
    },
    {
      "cell_type": "code",
      "metadata": {
        "id": "P3_9SXxdqt7P",
        "colab_type": "code",
        "outputId": "d9b45f51-d2cf-4b02-93d8-5174099a741b",
        "colab": {
          "base_uri": "https://localhost:8080/",
          "height": 34
        }
      },
      "source": [
        "# 코드를 입력해 주세요\n",
        "func(2, 2, 3)"
      ],
      "execution_count": 12,
      "outputs": [
        {
          "output_type": "execute_result",
          "data": {
            "text/plain": [
              "12"
            ]
          },
          "metadata": {
            "tags": []
          },
          "execution_count": 12
        }
      ]
    },
    {
      "cell_type": "code",
      "metadata": {
        "id": "ybJx3_SmqwJt",
        "colab_type": "code",
        "outputId": "358335c0-89c8-48cc-e30a-b12a86aa00bc",
        "colab": {
          "base_uri": "https://localhost:8080/",
          "height": 34
        }
      },
      "source": [
        "# 코드를 입력해 주세요\n",
        "func(3, 2, 3)"
      ],
      "execution_count": 13,
      "outputs": [
        {
          "output_type": "execute_result",
          "data": {
            "text/plain": [
              "15"
            ]
          },
          "metadata": {
            "tags": []
          },
          "execution_count": 13
        }
      ]
    },
    {
      "cell_type": "markdown",
      "metadata": {
        "id": "V-RaMsPUq08R",
        "colab_type": "text"
      },
      "source": [
        "## 2. def는 함수를 위한 정의 (define)"
      ]
    },
    {
      "cell_type": "markdown",
      "metadata": {
        "id": "ZOX4YXLJq4sn",
        "colab_type": "text"
      },
      "source": [
        "def **함수이름** (parameter1, parameter2, parameter...)**:**"
      ]
    },
    {
      "cell_type": "markdown",
      "metadata": {
        "id": "ADFgrlUZsrJv",
        "colab_type": "text"
      },
      "source": [
        "parameter는 함수로 부터 **넘겨 받은 변수 또는 값** 입니다."
      ]
    },
    {
      "cell_type": "markdown",
      "metadata": {
        "id": "qm3XAEVWrRSu",
        "colab_type": "text"
      },
      "source": [
        "끝에 콜론 (:) 빼먹지 않음에 주의 하세요!!"
      ]
    },
    {
      "cell_type": "code",
      "metadata": {
        "id": "6Wih3mlYrAx7",
        "colab_type": "code",
        "colab": {}
      },
      "source": [
        "def my_func(var1):\n",
        "    print(var1)"
      ],
      "execution_count": 0,
      "outputs": []
    },
    {
      "cell_type": "code",
      "metadata": {
        "id": "H59YXbQQDIXa",
        "colab_type": "code",
        "colab": {
          "base_uri": "https://localhost:8080/",
          "height": 34
        },
        "outputId": "5d151c32-beae-4e3a-b6b9-02d2ad2107ad"
      },
      "source": [
        "my_func('Hi')"
      ],
      "execution_count": 22,
      "outputs": [
        {
          "output_type": "stream",
          "text": [
            "Hi\n"
          ],
          "name": "stdout"
        }
      ]
    },
    {
      "cell_type": "markdown",
      "metadata": {
        "id": "vaOp0PuOrewg",
        "colab_type": "text"
      },
      "source": [
        "1. my_func 함수 실행\n",
        "2. var1에 '테디입니다. 반갑습니다' 대입\n",
        "3. print(var1) 실행"
      ]
    },
    {
      "cell_type": "markdown",
      "metadata": {
        "id": "3RZu9VLnr097",
        "colab_type": "text"
      },
      "source": [
        "## 3. 함수는 값을 리턴할 수 있고, 안해도 됩니다"
      ]
    },
    {
      "cell_type": "markdown",
      "metadata": {
        "id": "CnBFkfx-r_xf",
        "colab_type": "text"
      },
      "source": [
        "리턴이 없는 경우"
      ]
    },
    {
      "cell_type": "code",
      "metadata": {
        "id": "ztv_j8mMr6AN",
        "colab_type": "code",
        "colab": {}
      },
      "source": [
        "def my_func(a, b):\n",
        "    print(a, b)"
      ],
      "execution_count": 0,
      "outputs": []
    },
    {
      "cell_type": "code",
      "metadata": {
        "id": "T-ClmPeusJna",
        "colab_type": "code",
        "outputId": "16ad7fb5-e1b0-4ee7-e939-b7b46b6a1d9c",
        "colab": {
          "base_uri": "https://localhost:8080/",
          "height": 34
        }
      },
      "source": [
        "# 코드를 입력해 주세요\n",
        "my_func(1, 10)"
      ],
      "execution_count": 24,
      "outputs": [
        {
          "output_type": "stream",
          "text": [
            "1 10\n"
          ],
          "name": "stdout"
        }
      ]
    },
    {
      "cell_type": "markdown",
      "metadata": {
        "id": "WaCzCpFSr_Qp",
        "colab_type": "text"
      },
      "source": [
        "리턴이 있는 경우"
      ]
    },
    {
      "cell_type": "code",
      "metadata": {
        "id": "FJW1Fk7QsCnF",
        "colab_type": "code",
        "colab": {}
      },
      "source": [
        "def my_func(a, b):\n",
        "    s = a + b\n",
        "    return s"
      ],
      "execution_count": 0,
      "outputs": []
    },
    {
      "cell_type": "code",
      "metadata": {
        "id": "LBgF-53dDmKU",
        "colab_type": "code",
        "colab": {}
      },
      "source": [
        "result = my_func(1, 10)"
      ],
      "execution_count": 0,
      "outputs": []
    },
    {
      "cell_type": "code",
      "metadata": {
        "id": "f3qOiAErDrtv",
        "colab_type": "code",
        "colab": {
          "base_uri": "https://localhost:8080/",
          "height": 34
        },
        "outputId": "6c9e482c-5594-4a09-f0e7-a3770a76eda3"
      },
      "source": [
        "result"
      ],
      "execution_count": 28,
      "outputs": [
        {
          "output_type": "execute_result",
          "data": {
            "text/plain": [
              "11"
            ]
          },
          "metadata": {
            "tags": []
          },
          "execution_count": 28
        }
      ]
    },
    {
      "cell_type": "markdown",
      "metadata": {
        "id": "fGMa5m0XsRh9",
        "colab_type": "text"
      },
      "source": [
        "리턴이 있는 경우는 변수에 값을 다시 할당 할 수 있습니다."
      ]
    },
    {
      "cell_type": "code",
      "metadata": {
        "id": "on0cREYssXX6",
        "colab_type": "code",
        "colab": {}
      },
      "source": [
        "ret = my_func(1, 10)"
      ],
      "execution_count": 0,
      "outputs": []
    },
    {
      "cell_type": "code",
      "metadata": {
        "id": "8IvZIcnusZqF",
        "colab_type": "code",
        "outputId": "dfc72817-8e87-47d1-db7b-276f12e9830f",
        "colab": {
          "base_uri": "https://localhost:8080/",
          "height": 34
        }
      },
      "source": [
        "print(ret)"
      ],
      "execution_count": 30,
      "outputs": [
        {
          "output_type": "stream",
          "text": [
            "11\n"
          ],
          "name": "stdout"
        }
      ]
    },
    {
      "cell_type": "code",
      "metadata": {
        "id": "_2ISL_gusaxr",
        "colab_type": "code",
        "outputId": "dc86af9a-7130-40a8-e906-039cc667e8bc",
        "colab": {
          "base_uri": "https://localhost:8080/",
          "height": 34
        }
      },
      "source": [
        "print(ret + 10)"
      ],
      "execution_count": 31,
      "outputs": [
        {
          "output_type": "stream",
          "text": [
            "21\n"
          ],
          "name": "stdout"
        }
      ]
    },
    {
      "cell_type": "markdown",
      "metadata": {
        "id": "rlfll1eIsf55",
        "colab_type": "text"
      },
      "source": [
        "## 4. parameter는 여러 개 만들 수 있지만, 함수에 넘겨 줄 때 순서가 중요합니다."
      ]
    },
    {
      "cell_type": "code",
      "metadata": {
        "id": "X2olLokms60u",
        "colab_type": "code",
        "colab": {}
      },
      "source": [
        "def my_func(a, b, c):\n",
        "    return (a + b) * c"
      ],
      "execution_count": 0,
      "outputs": []
    },
    {
      "cell_type": "code",
      "metadata": {
        "id": "TB3ufHZIteOS",
        "colab_type": "code",
        "colab": {}
      },
      "source": [
        "a = 10\n",
        "b = 20\n",
        "c = 3"
      ],
      "execution_count": 0,
      "outputs": []
    },
    {
      "cell_type": "code",
      "metadata": {
        "id": "lCM5LshStime",
        "colab_type": "code",
        "outputId": "29b03b26-9e1d-4736-8575-ebbb12a100ec",
        "colab": {
          "base_uri": "https://localhost:8080/",
          "height": 34
        }
      },
      "source": [
        "(a + b) * c"
      ],
      "execution_count": 34,
      "outputs": [
        {
          "output_type": "execute_result",
          "data": {
            "text/plain": [
              "90"
            ]
          },
          "metadata": {
            "tags": []
          },
          "execution_count": 34
        }
      ]
    },
    {
      "cell_type": "code",
      "metadata": {
        "id": "98PmnKFNtkn9",
        "colab_type": "code",
        "outputId": "6f5c2714-07ea-4dae-f991-219bad32496e",
        "colab": {
          "base_uri": "https://localhost:8080/",
          "height": 34
        }
      },
      "source": [
        "# 코드를 입력해 주세요\n",
        "my_func(c, b, a)"
      ],
      "execution_count": 35,
      "outputs": [
        {
          "output_type": "execute_result",
          "data": {
            "text/plain": [
              "230"
            ]
          },
          "metadata": {
            "tags": []
          },
          "execution_count": 35
        }
      ]
    },
    {
      "cell_type": "code",
      "metadata": {
        "id": "IdR0zZDBtm_c",
        "colab_type": "code",
        "outputId": "cdb5093c-745d-4e42-bc58-9c2c0d362bd5",
        "colab": {
          "base_uri": "https://localhost:8080/",
          "height": 34
        }
      },
      "source": [
        "# 코드를 입력해 주세요\n",
        "my_func(a, b, c)"
      ],
      "execution_count": 37,
      "outputs": [
        {
          "output_type": "execute_result",
          "data": {
            "text/plain": [
              "90"
            ]
          },
          "metadata": {
            "tags": []
          },
          "execution_count": 37
        }
      ]
    },
    {
      "cell_type": "code",
      "metadata": {
        "id": "lSV8P84iEQ11",
        "colab_type": "code",
        "colab": {}
      },
      "source": [
        ""
      ],
      "execution_count": 0,
      "outputs": []
    }
  ]
}